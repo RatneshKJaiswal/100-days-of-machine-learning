{
 "metadata": {
  "kernelspec": {
   "language": "python",
   "display_name": "Python 3",
   "name": "python3"
  },
  "language_info": {
   "pygments_lexer": "ipython3",
   "nbconvert_exporter": "python",
   "version": "3.6.4",
   "file_extension": ".py",
   "codemirror_mode": {
    "name": "ipython",
    "version": 3
   },
   "name": "python",
   "mimetype": "text/x-python"
  }
 },
 "nbformat_minor": 4,
 "nbformat": 4,
 "cells": [
  {
   "cell_type": "code",
   "source": [
    "# This Python 3 environment comes with many helpful analytics libraries installed\n",
    "# It is defined by the kaggle/python Docker image: https://github.com/kaggle/docker-python\n",
    "# For example, here's several helpful packages to load\n",
    "\n",
    "import numpy as np # linear algebra\n",
    "import pandas as pd # data processing, CSV file I/O (e.g. pd.read_csv)\n",
    "\n",
    "# Input data files are available in the read-only \"../input/\" directory\n",
    "# For example, running this (by clicking run or pressing Shift+Enter) will list all files under the input directory\n",
    "\n",
    "import os\n",
    "for dirname, _, filenames in os.walk('/kaggle/input'):\n",
    "    for filename in filenames:\n",
    "        print(os.path.join(dirname, filename))\n",
    "\n",
    "# You can write up to 20GB to the current directory (/kaggle/working/) that gets preserved as output when you create a version using \"Save & Run All\" \n",
    "# You can also write temporary files to /kaggle/temp/, but they won't be saved outside of the current session"
   ],
   "metadata": {
    "_uuid": "8f2839f25d086af736a60e9eeb907d3b93b6e0e5",
    "_cell_guid": "b1076dfc-b9ad-4769-8c92-a6c4dae69d19",
    "execution": {
     "iopub.status.busy": "2021-06-24T09:01:13.819524Z",
     "iopub.execute_input": "2021-06-24T09:01:13.820019Z",
     "iopub.status.idle": "2021-06-24T09:01:13.831691Z",
     "shell.execute_reply.started": "2021-06-24T09:01:13.819970Z",
     "shell.execute_reply": "2021-06-24T09:01:13.830838Z"
    },
    "trusted": true,
    "ExecuteTime": {
     "end_time": "2024-07-25T07:44:14.358994Z",
     "start_time": "2024-07-25T07:44:14.160857Z"
    }
   },
   "outputs": [],
   "execution_count": 1
  },
  {
   "cell_type": "code",
   "source": "df = pd.read_csv('/kaggle/input/digit-recognizer/train.csv')",
   "metadata": {
    "execution": {
     "iopub.status.busy": "2021-06-24T09:01:13.833427Z",
     "iopub.execute_input": "2021-06-24T09:01:13.833700Z",
     "iopub.status.idle": "2021-06-24T09:01:16.797750Z",
     "shell.execute_reply.started": "2021-06-24T09:01:13.833672Z",
     "shell.execute_reply": "2021-06-24T09:01:16.796930Z"
    },
    "trusted": true,
    "ExecuteTime": {
     "end_time": "2024-07-25T07:44:15.300943Z",
     "start_time": "2024-07-25T07:44:15.098945Z"
    }
   },
   "outputs": [
    {
     "ename": "FileNotFoundError",
     "evalue": "[Errno 2] No such file or directory: '/kaggle/input/digit-recognizer/train.csv'",
     "output_type": "error",
     "traceback": [
      "\u001B[0;31m---------------------------------------------------------------------------\u001B[0m",
      "\u001B[0;31mFileNotFoundError\u001B[0m                         Traceback (most recent call last)",
      "Cell \u001B[0;32mIn[2], line 1\u001B[0m\n\u001B[0;32m----> 1\u001B[0m df \u001B[38;5;241m=\u001B[39m \u001B[43mpd\u001B[49m\u001B[38;5;241;43m.\u001B[39;49m\u001B[43mread_csv\u001B[49m\u001B[43m(\u001B[49m\u001B[38;5;124;43m'\u001B[39;49m\u001B[38;5;124;43m/kaggle/input/digit-recognizer/train.csv\u001B[39;49m\u001B[38;5;124;43m'\u001B[39;49m\u001B[43m)\u001B[49m\n",
      "File \u001B[0;32m/usr/lib/python3/dist-packages/pandas/io/parsers/readers.py:948\u001B[0m, in \u001B[0;36mread_csv\u001B[0;34m(filepath_or_buffer, sep, delimiter, header, names, index_col, usecols, dtype, engine, converters, true_values, false_values, skipinitialspace, skiprows, skipfooter, nrows, na_values, keep_default_na, na_filter, verbose, skip_blank_lines, parse_dates, infer_datetime_format, keep_date_col, date_parser, date_format, dayfirst, cache_dates, iterator, chunksize, compression, thousands, decimal, lineterminator, quotechar, quoting, doublequote, escapechar, comment, encoding, encoding_errors, dialect, on_bad_lines, delim_whitespace, low_memory, memory_map, float_precision, storage_options, dtype_backend)\u001B[0m\n\u001B[1;32m    935\u001B[0m kwds_defaults \u001B[38;5;241m=\u001B[39m _refine_defaults_read(\n\u001B[1;32m    936\u001B[0m     dialect,\n\u001B[1;32m    937\u001B[0m     delimiter,\n\u001B[0;32m   (...)\u001B[0m\n\u001B[1;32m    944\u001B[0m     dtype_backend\u001B[38;5;241m=\u001B[39mdtype_backend,\n\u001B[1;32m    945\u001B[0m )\n\u001B[1;32m    946\u001B[0m kwds\u001B[38;5;241m.\u001B[39mupdate(kwds_defaults)\n\u001B[0;32m--> 948\u001B[0m \u001B[38;5;28;01mreturn\u001B[39;00m \u001B[43m_read\u001B[49m\u001B[43m(\u001B[49m\u001B[43mfilepath_or_buffer\u001B[49m\u001B[43m,\u001B[49m\u001B[43m \u001B[49m\u001B[43mkwds\u001B[49m\u001B[43m)\u001B[49m\n",
      "File \u001B[0;32m/usr/lib/python3/dist-packages/pandas/io/parsers/readers.py:611\u001B[0m, in \u001B[0;36m_read\u001B[0;34m(filepath_or_buffer, kwds)\u001B[0m\n\u001B[1;32m    608\u001B[0m _validate_names(kwds\u001B[38;5;241m.\u001B[39mget(\u001B[38;5;124m\"\u001B[39m\u001B[38;5;124mnames\u001B[39m\u001B[38;5;124m\"\u001B[39m, \u001B[38;5;28;01mNone\u001B[39;00m))\n\u001B[1;32m    610\u001B[0m \u001B[38;5;66;03m# Create the parser.\u001B[39;00m\n\u001B[0;32m--> 611\u001B[0m parser \u001B[38;5;241m=\u001B[39m \u001B[43mTextFileReader\u001B[49m\u001B[43m(\u001B[49m\u001B[43mfilepath_or_buffer\u001B[49m\u001B[43m,\u001B[49m\u001B[43m \u001B[49m\u001B[38;5;241;43m*\u001B[39;49m\u001B[38;5;241;43m*\u001B[39;49m\u001B[43mkwds\u001B[49m\u001B[43m)\u001B[49m\n\u001B[1;32m    613\u001B[0m \u001B[38;5;28;01mif\u001B[39;00m chunksize \u001B[38;5;129;01mor\u001B[39;00m iterator:\n\u001B[1;32m    614\u001B[0m     \u001B[38;5;28;01mreturn\u001B[39;00m parser\n",
      "File \u001B[0;32m/usr/lib/python3/dist-packages/pandas/io/parsers/readers.py:1448\u001B[0m, in \u001B[0;36mTextFileReader.__init__\u001B[0;34m(self, f, engine, **kwds)\u001B[0m\n\u001B[1;32m   1445\u001B[0m     \u001B[38;5;28mself\u001B[39m\u001B[38;5;241m.\u001B[39moptions[\u001B[38;5;124m\"\u001B[39m\u001B[38;5;124mhas_index_names\u001B[39m\u001B[38;5;124m\"\u001B[39m] \u001B[38;5;241m=\u001B[39m kwds[\u001B[38;5;124m\"\u001B[39m\u001B[38;5;124mhas_index_names\u001B[39m\u001B[38;5;124m\"\u001B[39m]\n\u001B[1;32m   1447\u001B[0m \u001B[38;5;28mself\u001B[39m\u001B[38;5;241m.\u001B[39mhandles: IOHandles \u001B[38;5;241m|\u001B[39m \u001B[38;5;28;01mNone\u001B[39;00m \u001B[38;5;241m=\u001B[39m \u001B[38;5;28;01mNone\u001B[39;00m\n\u001B[0;32m-> 1448\u001B[0m \u001B[38;5;28mself\u001B[39m\u001B[38;5;241m.\u001B[39m_engine \u001B[38;5;241m=\u001B[39m \u001B[38;5;28;43mself\u001B[39;49m\u001B[38;5;241;43m.\u001B[39;49m\u001B[43m_make_engine\u001B[49m\u001B[43m(\u001B[49m\u001B[43mf\u001B[49m\u001B[43m,\u001B[49m\u001B[43m \u001B[49m\u001B[38;5;28;43mself\u001B[39;49m\u001B[38;5;241;43m.\u001B[39;49m\u001B[43mengine\u001B[49m\u001B[43m)\u001B[49m\n",
      "File \u001B[0;32m/usr/lib/python3/dist-packages/pandas/io/parsers/readers.py:1705\u001B[0m, in \u001B[0;36mTextFileReader._make_engine\u001B[0;34m(self, f, engine)\u001B[0m\n\u001B[1;32m   1703\u001B[0m     \u001B[38;5;28;01mif\u001B[39;00m \u001B[38;5;124m\"\u001B[39m\u001B[38;5;124mb\u001B[39m\u001B[38;5;124m\"\u001B[39m \u001B[38;5;129;01mnot\u001B[39;00m \u001B[38;5;129;01min\u001B[39;00m mode:\n\u001B[1;32m   1704\u001B[0m         mode \u001B[38;5;241m+\u001B[39m\u001B[38;5;241m=\u001B[39m \u001B[38;5;124m\"\u001B[39m\u001B[38;5;124mb\u001B[39m\u001B[38;5;124m\"\u001B[39m\n\u001B[0;32m-> 1705\u001B[0m \u001B[38;5;28mself\u001B[39m\u001B[38;5;241m.\u001B[39mhandles \u001B[38;5;241m=\u001B[39m \u001B[43mget_handle\u001B[49m\u001B[43m(\u001B[49m\n\u001B[1;32m   1706\u001B[0m \u001B[43m    \u001B[49m\u001B[43mf\u001B[49m\u001B[43m,\u001B[49m\n\u001B[1;32m   1707\u001B[0m \u001B[43m    \u001B[49m\u001B[43mmode\u001B[49m\u001B[43m,\u001B[49m\n\u001B[1;32m   1708\u001B[0m \u001B[43m    \u001B[49m\u001B[43mencoding\u001B[49m\u001B[38;5;241;43m=\u001B[39;49m\u001B[38;5;28;43mself\u001B[39;49m\u001B[38;5;241;43m.\u001B[39;49m\u001B[43moptions\u001B[49m\u001B[38;5;241;43m.\u001B[39;49m\u001B[43mget\u001B[49m\u001B[43m(\u001B[49m\u001B[38;5;124;43m\"\u001B[39;49m\u001B[38;5;124;43mencoding\u001B[39;49m\u001B[38;5;124;43m\"\u001B[39;49m\u001B[43m,\u001B[49m\u001B[43m \u001B[49m\u001B[38;5;28;43;01mNone\u001B[39;49;00m\u001B[43m)\u001B[49m\u001B[43m,\u001B[49m\n\u001B[1;32m   1709\u001B[0m \u001B[43m    \u001B[49m\u001B[43mcompression\u001B[49m\u001B[38;5;241;43m=\u001B[39;49m\u001B[38;5;28;43mself\u001B[39;49m\u001B[38;5;241;43m.\u001B[39;49m\u001B[43moptions\u001B[49m\u001B[38;5;241;43m.\u001B[39;49m\u001B[43mget\u001B[49m\u001B[43m(\u001B[49m\u001B[38;5;124;43m\"\u001B[39;49m\u001B[38;5;124;43mcompression\u001B[39;49m\u001B[38;5;124;43m\"\u001B[39;49m\u001B[43m,\u001B[49m\u001B[43m \u001B[49m\u001B[38;5;28;43;01mNone\u001B[39;49;00m\u001B[43m)\u001B[49m\u001B[43m,\u001B[49m\n\u001B[1;32m   1710\u001B[0m \u001B[43m    \u001B[49m\u001B[43mmemory_map\u001B[49m\u001B[38;5;241;43m=\u001B[39;49m\u001B[38;5;28;43mself\u001B[39;49m\u001B[38;5;241;43m.\u001B[39;49m\u001B[43moptions\u001B[49m\u001B[38;5;241;43m.\u001B[39;49m\u001B[43mget\u001B[49m\u001B[43m(\u001B[49m\u001B[38;5;124;43m\"\u001B[39;49m\u001B[38;5;124;43mmemory_map\u001B[39;49m\u001B[38;5;124;43m\"\u001B[39;49m\u001B[43m,\u001B[49m\u001B[43m \u001B[49m\u001B[38;5;28;43;01mFalse\u001B[39;49;00m\u001B[43m)\u001B[49m\u001B[43m,\u001B[49m\n\u001B[1;32m   1711\u001B[0m \u001B[43m    \u001B[49m\u001B[43mis_text\u001B[49m\u001B[38;5;241;43m=\u001B[39;49m\u001B[43mis_text\u001B[49m\u001B[43m,\u001B[49m\n\u001B[1;32m   1712\u001B[0m \u001B[43m    \u001B[49m\u001B[43merrors\u001B[49m\u001B[38;5;241;43m=\u001B[39;49m\u001B[38;5;28;43mself\u001B[39;49m\u001B[38;5;241;43m.\u001B[39;49m\u001B[43moptions\u001B[49m\u001B[38;5;241;43m.\u001B[39;49m\u001B[43mget\u001B[49m\u001B[43m(\u001B[49m\u001B[38;5;124;43m\"\u001B[39;49m\u001B[38;5;124;43mencoding_errors\u001B[39;49m\u001B[38;5;124;43m\"\u001B[39;49m\u001B[43m,\u001B[49m\u001B[43m \u001B[49m\u001B[38;5;124;43m\"\u001B[39;49m\u001B[38;5;124;43mstrict\u001B[39;49m\u001B[38;5;124;43m\"\u001B[39;49m\u001B[43m)\u001B[49m\u001B[43m,\u001B[49m\n\u001B[1;32m   1713\u001B[0m \u001B[43m    \u001B[49m\u001B[43mstorage_options\u001B[49m\u001B[38;5;241;43m=\u001B[39;49m\u001B[38;5;28;43mself\u001B[39;49m\u001B[38;5;241;43m.\u001B[39;49m\u001B[43moptions\u001B[49m\u001B[38;5;241;43m.\u001B[39;49m\u001B[43mget\u001B[49m\u001B[43m(\u001B[49m\u001B[38;5;124;43m\"\u001B[39;49m\u001B[38;5;124;43mstorage_options\u001B[39;49m\u001B[38;5;124;43m\"\u001B[39;49m\u001B[43m,\u001B[49m\u001B[43m \u001B[49m\u001B[38;5;28;43;01mNone\u001B[39;49;00m\u001B[43m)\u001B[49m\u001B[43m,\u001B[49m\n\u001B[1;32m   1714\u001B[0m \u001B[43m\u001B[49m\u001B[43m)\u001B[49m\n\u001B[1;32m   1715\u001B[0m \u001B[38;5;28;01massert\u001B[39;00m \u001B[38;5;28mself\u001B[39m\u001B[38;5;241m.\u001B[39mhandles \u001B[38;5;129;01mis\u001B[39;00m \u001B[38;5;129;01mnot\u001B[39;00m \u001B[38;5;28;01mNone\u001B[39;00m\n\u001B[1;32m   1716\u001B[0m f \u001B[38;5;241m=\u001B[39m \u001B[38;5;28mself\u001B[39m\u001B[38;5;241m.\u001B[39mhandles\u001B[38;5;241m.\u001B[39mhandle\n",
      "File \u001B[0;32m/usr/lib/python3/dist-packages/pandas/io/common.py:863\u001B[0m, in \u001B[0;36mget_handle\u001B[0;34m(path_or_buf, mode, encoding, compression, memory_map, is_text, errors, storage_options)\u001B[0m\n\u001B[1;32m    858\u001B[0m \u001B[38;5;28;01melif\u001B[39;00m \u001B[38;5;28misinstance\u001B[39m(handle, \u001B[38;5;28mstr\u001B[39m):\n\u001B[1;32m    859\u001B[0m     \u001B[38;5;66;03m# Check whether the filename is to be opened in binary mode.\u001B[39;00m\n\u001B[1;32m    860\u001B[0m     \u001B[38;5;66;03m# Binary mode does not support 'encoding' and 'newline'.\u001B[39;00m\n\u001B[1;32m    861\u001B[0m     \u001B[38;5;28;01mif\u001B[39;00m ioargs\u001B[38;5;241m.\u001B[39mencoding \u001B[38;5;129;01mand\u001B[39;00m \u001B[38;5;124m\"\u001B[39m\u001B[38;5;124mb\u001B[39m\u001B[38;5;124m\"\u001B[39m \u001B[38;5;129;01mnot\u001B[39;00m \u001B[38;5;129;01min\u001B[39;00m ioargs\u001B[38;5;241m.\u001B[39mmode:\n\u001B[1;32m    862\u001B[0m         \u001B[38;5;66;03m# Encoding\u001B[39;00m\n\u001B[0;32m--> 863\u001B[0m         handle \u001B[38;5;241m=\u001B[39m \u001B[38;5;28;43mopen\u001B[39;49m\u001B[43m(\u001B[49m\n\u001B[1;32m    864\u001B[0m \u001B[43m            \u001B[49m\u001B[43mhandle\u001B[49m\u001B[43m,\u001B[49m\n\u001B[1;32m    865\u001B[0m \u001B[43m            \u001B[49m\u001B[43mioargs\u001B[49m\u001B[38;5;241;43m.\u001B[39;49m\u001B[43mmode\u001B[49m\u001B[43m,\u001B[49m\n\u001B[1;32m    866\u001B[0m \u001B[43m            \u001B[49m\u001B[43mencoding\u001B[49m\u001B[38;5;241;43m=\u001B[39;49m\u001B[43mioargs\u001B[49m\u001B[38;5;241;43m.\u001B[39;49m\u001B[43mencoding\u001B[49m\u001B[43m,\u001B[49m\n\u001B[1;32m    867\u001B[0m \u001B[43m            \u001B[49m\u001B[43merrors\u001B[49m\u001B[38;5;241;43m=\u001B[39;49m\u001B[43merrors\u001B[49m\u001B[43m,\u001B[49m\n\u001B[1;32m    868\u001B[0m \u001B[43m            \u001B[49m\u001B[43mnewline\u001B[49m\u001B[38;5;241;43m=\u001B[39;49m\u001B[38;5;124;43m\"\u001B[39;49m\u001B[38;5;124;43m\"\u001B[39;49m\u001B[43m,\u001B[49m\n\u001B[1;32m    869\u001B[0m \u001B[43m        \u001B[49m\u001B[43m)\u001B[49m\n\u001B[1;32m    870\u001B[0m     \u001B[38;5;28;01melse\u001B[39;00m:\n\u001B[1;32m    871\u001B[0m         \u001B[38;5;66;03m# Binary mode\u001B[39;00m\n\u001B[1;32m    872\u001B[0m         handle \u001B[38;5;241m=\u001B[39m \u001B[38;5;28mopen\u001B[39m(handle, ioargs\u001B[38;5;241m.\u001B[39mmode)\n",
      "\u001B[0;31mFileNotFoundError\u001B[0m: [Errno 2] No such file or directory: '/kaggle/input/digit-recognizer/train.csv'"
     ]
    }
   ],
   "execution_count": 2
  },
  {
   "cell_type": "code",
   "source": "df.head()",
   "metadata": {
    "execution": {
     "iopub.status.busy": "2021-06-24T09:01:16.799427Z",
     "iopub.execute_input": "2021-06-24T09:01:16.799683Z",
     "iopub.status.idle": "2021-06-24T09:01:16.818848Z",
     "shell.execute_reply.started": "2021-06-24T09:01:16.799658Z",
     "shell.execute_reply": "2021-06-24T09:01:16.817918Z"
    },
    "trusted": true
   },
   "execution_count": 15,
   "outputs": [
    {
     "execution_count": 15,
     "output_type": "execute_result",
     "data": {
      "text/plain": "   label  pixel0  pixel1  pixel2  pixel3  pixel4  pixel5  pixel6  pixel7  \\\n0      1       0       0       0       0       0       0       0       0   \n1      0       0       0       0       0       0       0       0       0   \n2      1       0       0       0       0       0       0       0       0   \n3      4       0       0       0       0       0       0       0       0   \n4      0       0       0       0       0       0       0       0       0   \n\n   pixel8  ...  pixel774  pixel775  pixel776  pixel777  pixel778  pixel779  \\\n0       0  ...         0         0         0         0         0         0   \n1       0  ...         0         0         0         0         0         0   \n2       0  ...         0         0         0         0         0         0   \n3       0  ...         0         0         0         0         0         0   \n4       0  ...         0         0         0         0         0         0   \n\n   pixel780  pixel781  pixel782  pixel783  \n0         0         0         0         0  \n1         0         0         0         0  \n2         0         0         0         0  \n3         0         0         0         0  \n4         0         0         0         0  \n\n[5 rows x 785 columns]",
      "text/html": "<div>\n<style scoped>\n    .dataframe tbody tr th:only-of-type {\n        vertical-align: middle;\n    }\n\n    .dataframe tbody tr th {\n        vertical-align: top;\n    }\n\n    .dataframe thead th {\n        text-align: right;\n    }\n</style>\n<table border=\"1\" class=\"dataframe\">\n  <thead>\n    <tr style=\"text-align: right;\">\n      <th></th>\n      <th>label</th>\n      <th>pixel0</th>\n      <th>pixel1</th>\n      <th>pixel2</th>\n      <th>pixel3</th>\n      <th>pixel4</th>\n      <th>pixel5</th>\n      <th>pixel6</th>\n      <th>pixel7</th>\n      <th>pixel8</th>\n      <th>...</th>\n      <th>pixel774</th>\n      <th>pixel775</th>\n      <th>pixel776</th>\n      <th>pixel777</th>\n      <th>pixel778</th>\n      <th>pixel779</th>\n      <th>pixel780</th>\n      <th>pixel781</th>\n      <th>pixel782</th>\n      <th>pixel783</th>\n    </tr>\n  </thead>\n  <tbody>\n    <tr>\n      <th>0</th>\n      <td>1</td>\n      <td>0</td>\n      <td>0</td>\n      <td>0</td>\n      <td>0</td>\n      <td>0</td>\n      <td>0</td>\n      <td>0</td>\n      <td>0</td>\n      <td>0</td>\n      <td>...</td>\n      <td>0</td>\n      <td>0</td>\n      <td>0</td>\n      <td>0</td>\n      <td>0</td>\n      <td>0</td>\n      <td>0</td>\n      <td>0</td>\n      <td>0</td>\n      <td>0</td>\n    </tr>\n    <tr>\n      <th>1</th>\n      <td>0</td>\n      <td>0</td>\n      <td>0</td>\n      <td>0</td>\n      <td>0</td>\n      <td>0</td>\n      <td>0</td>\n      <td>0</td>\n      <td>0</td>\n      <td>0</td>\n      <td>...</td>\n      <td>0</td>\n      <td>0</td>\n      <td>0</td>\n      <td>0</td>\n      <td>0</td>\n      <td>0</td>\n      <td>0</td>\n      <td>0</td>\n      <td>0</td>\n      <td>0</td>\n    </tr>\n    <tr>\n      <th>2</th>\n      <td>1</td>\n      <td>0</td>\n      <td>0</td>\n      <td>0</td>\n      <td>0</td>\n      <td>0</td>\n      <td>0</td>\n      <td>0</td>\n      <td>0</td>\n      <td>0</td>\n      <td>...</td>\n      <td>0</td>\n      <td>0</td>\n      <td>0</td>\n      <td>0</td>\n      <td>0</td>\n      <td>0</td>\n      <td>0</td>\n      <td>0</td>\n      <td>0</td>\n      <td>0</td>\n    </tr>\n    <tr>\n      <th>3</th>\n      <td>4</td>\n      <td>0</td>\n      <td>0</td>\n      <td>0</td>\n      <td>0</td>\n      <td>0</td>\n      <td>0</td>\n      <td>0</td>\n      <td>0</td>\n      <td>0</td>\n      <td>...</td>\n      <td>0</td>\n      <td>0</td>\n      <td>0</td>\n      <td>0</td>\n      <td>0</td>\n      <td>0</td>\n      <td>0</td>\n      <td>0</td>\n      <td>0</td>\n      <td>0</td>\n    </tr>\n    <tr>\n      <th>4</th>\n      <td>0</td>\n      <td>0</td>\n      <td>0</td>\n      <td>0</td>\n      <td>0</td>\n      <td>0</td>\n      <td>0</td>\n      <td>0</td>\n      <td>0</td>\n      <td>0</td>\n      <td>...</td>\n      <td>0</td>\n      <td>0</td>\n      <td>0</td>\n      <td>0</td>\n      <td>0</td>\n      <td>0</td>\n      <td>0</td>\n      <td>0</td>\n      <td>0</td>\n      <td>0</td>\n    </tr>\n  </tbody>\n</table>\n<p>5 rows × 785 columns</p>\n</div>"
     },
     "metadata": {}
    }
   ]
  },
  {
   "cell_type": "code",
   "source": "from sklearn.model_selection import train_test_split\nX_train,X_test,y_train,y_test = train_test_split(df.iloc[:,1:],df.iloc[:,0],test_size=0.2,random_state=2)",
   "metadata": {
    "execution": {
     "iopub.status.busy": "2021-06-24T09:01:16.820080Z",
     "iopub.execute_input": "2021-06-24T09:01:16.820321Z",
     "iopub.status.idle": "2021-06-24T09:01:17.108043Z",
     "shell.execute_reply.started": "2021-06-24T09:01:16.820296Z",
     "shell.execute_reply": "2021-06-24T09:01:17.107260Z"
    },
    "trusted": true
   },
   "execution_count": 16,
   "outputs": []
  },
  {
   "cell_type": "code",
   "source": "from sklearn.linear_model import LogisticRegression\nfrom sklearn.tree import DecisionTreeClassifier",
   "metadata": {
    "execution": {
     "iopub.status.busy": "2021-06-24T09:01:17.109214Z",
     "iopub.execute_input": "2021-06-24T09:01:17.109486Z",
     "iopub.status.idle": "2021-06-24T09:01:17.114934Z",
     "shell.execute_reply.started": "2021-06-24T09:01:17.109459Z",
     "shell.execute_reply": "2021-06-24T09:01:17.113971Z"
    },
    "trusted": true
   },
   "execution_count": 17,
   "outputs": []
  },
  {
   "cell_type": "code",
   "source": "clf1 = LogisticRegression()\nclf2 = DecisionTreeClassifier()",
   "metadata": {
    "execution": {
     "iopub.status.busy": "2021-06-24T09:01:17.116057Z",
     "iopub.execute_input": "2021-06-24T09:01:17.116346Z",
     "iopub.status.idle": "2021-06-24T09:01:17.124475Z",
     "shell.execute_reply.started": "2021-06-24T09:01:17.116320Z",
     "shell.execute_reply": "2021-06-24T09:01:17.123490Z"
    },
    "trusted": true
   },
   "execution_count": 18,
   "outputs": []
  },
  {
   "cell_type": "code",
   "source": "clf1.fit(X_train,y_train)\nclf2.fit(X_train,y_train)",
   "metadata": {
    "execution": {
     "iopub.status.busy": "2021-06-24T09:01:17.125600Z",
     "iopub.execute_input": "2021-06-24T09:01:17.125835Z",
     "iopub.status.idle": "2021-06-24T09:01:43.247598Z",
     "shell.execute_reply.started": "2021-06-24T09:01:17.125811Z",
     "shell.execute_reply": "2021-06-24T09:01:43.246675Z"
    },
    "trusted": true
   },
   "execution_count": 19,
   "outputs": [
    {
     "name": "stderr",
     "text": "/opt/conda/lib/python3.7/site-packages/sklearn/linear_model/_logistic.py:765: ConvergenceWarning: lbfgs failed to converge (status=1):\nSTOP: TOTAL NO. of ITERATIONS REACHED LIMIT.\n\nIncrease the number of iterations (max_iter) or scale the data as shown in:\n    https://scikit-learn.org/stable/modules/preprocessing.html\nPlease also refer to the documentation for alternative solver options:\n    https://scikit-learn.org/stable/modules/linear_model.html#logistic-regression\n  extra_warning_msg=_LOGISTIC_SOLVER_CONVERGENCE_MSG)\n",
     "output_type": "stream"
    },
    {
     "execution_count": 19,
     "output_type": "execute_result",
     "data": {
      "text/plain": "DecisionTreeClassifier()"
     },
     "metadata": {}
    }
   ]
  },
  {
   "cell_type": "code",
   "source": "y_pred1 = clf1.predict(X_test)\ny_pred2 = clf2.predict(X_test)",
   "metadata": {
    "execution": {
     "iopub.status.busy": "2021-06-24T09:01:43.248633Z",
     "iopub.execute_input": "2021-06-24T09:01:43.248889Z",
     "iopub.status.idle": "2021-06-24T09:01:43.333825Z",
     "shell.execute_reply.started": "2021-06-24T09:01:43.248850Z",
     "shell.execute_reply": "2021-06-24T09:01:43.332651Z"
    },
    "trusted": true
   },
   "execution_count": 20,
   "outputs": []
  },
  {
   "cell_type": "code",
   "source": "from sklearn.metrics import accuracy_score,confusion_matrix\nprint(\"Accuracy of Logistic Regression\",accuracy_score(y_test,y_pred1))\nprint(\"Accuracy of Decision Trees\",accuracy_score(y_test,y_pred2))",
   "metadata": {
    "execution": {
     "iopub.status.busy": "2021-06-24T09:01:43.341729Z",
     "iopub.execute_input": "2021-06-24T09:01:43.342179Z",
     "iopub.status.idle": "2021-06-24T09:01:43.362715Z",
     "shell.execute_reply.started": "2021-06-24T09:01:43.342137Z",
     "shell.execute_reply": "2021-06-24T09:01:43.359034Z"
    },
    "trusted": true
   },
   "execution_count": 21,
   "outputs": [
    {
     "name": "stdout",
     "text": "Accuracy of Logistic Regression 0.9145238095238095\nAccuracy of Decision Trees 0.8517857142857143\n",
     "output_type": "stream"
    }
   ]
  },
  {
   "cell_type": "code",
   "source": "print(\"Logistic Regression Confusion Matrix\\n\")\npd.DataFrame(confusion_matrix(y_test,y_pred1),columns=list(range(0,10)))",
   "metadata": {
    "execution": {
     "iopub.status.busy": "2021-06-24T09:01:43.364477Z",
     "iopub.execute_input": "2021-06-24T09:01:43.364871Z",
     "iopub.status.idle": "2021-06-24T09:01:43.404727Z",
     "shell.execute_reply.started": "2021-06-24T09:01:43.364819Z",
     "shell.execute_reply": "2021-06-24T09:01:43.403797Z"
    },
    "trusted": true
   },
   "execution_count": 22,
   "outputs": [
    {
     "name": "stdout",
     "text": "Logistic Regression Confusion Matrix\n\n",
     "output_type": "stream"
    },
    {
     "execution_count": 22,
     "output_type": "execute_result",
     "data": {
      "text/plain": "     0    1    2    3    4    5    6    7    8    9\n0  791    0    1    0    1    9   11    1    6    1\n1    0  938    2    4    0    3    0    3   12    0\n2    2    9  745   16    9    4   13   13   15    3\n3    1    4   19  763    0   36    5    5   20   11\n4    2    5    4    0  804    1    7    3    9   21\n5    9    3    4   23   10  610   15   10   34   11\n6   12    4   12    1    7    8  789    0    5    1\n7    3    2   13    6    4    2    0  812    2   29\n8   11   12   13   18    1   21    6    6  694   11\n9    3    6    2   14   25    4    0   37    7  736",
      "text/html": "<div>\n<style scoped>\n    .dataframe tbody tr th:only-of-type {\n        vertical-align: middle;\n    }\n\n    .dataframe tbody tr th {\n        vertical-align: top;\n    }\n\n    .dataframe thead th {\n        text-align: right;\n    }\n</style>\n<table border=\"1\" class=\"dataframe\">\n  <thead>\n    <tr style=\"text-align: right;\">\n      <th></th>\n      <th>0</th>\n      <th>1</th>\n      <th>2</th>\n      <th>3</th>\n      <th>4</th>\n      <th>5</th>\n      <th>6</th>\n      <th>7</th>\n      <th>8</th>\n      <th>9</th>\n    </tr>\n  </thead>\n  <tbody>\n    <tr>\n      <th>0</th>\n      <td>791</td>\n      <td>0</td>\n      <td>1</td>\n      <td>0</td>\n      <td>1</td>\n      <td>9</td>\n      <td>11</td>\n      <td>1</td>\n      <td>6</td>\n      <td>1</td>\n    </tr>\n    <tr>\n      <th>1</th>\n      <td>0</td>\n      <td>938</td>\n      <td>2</td>\n      <td>4</td>\n      <td>0</td>\n      <td>3</td>\n      <td>0</td>\n      <td>3</td>\n      <td>12</td>\n      <td>0</td>\n    </tr>\n    <tr>\n      <th>2</th>\n      <td>2</td>\n      <td>9</td>\n      <td>745</td>\n      <td>16</td>\n      <td>9</td>\n      <td>4</td>\n      <td>13</td>\n      <td>13</td>\n      <td>15</td>\n      <td>3</td>\n    </tr>\n    <tr>\n      <th>3</th>\n      <td>1</td>\n      <td>4</td>\n      <td>19</td>\n      <td>763</td>\n      <td>0</td>\n      <td>36</td>\n      <td>5</td>\n      <td>5</td>\n      <td>20</td>\n      <td>11</td>\n    </tr>\n    <tr>\n      <th>4</th>\n      <td>2</td>\n      <td>5</td>\n      <td>4</td>\n      <td>0</td>\n      <td>804</td>\n      <td>1</td>\n      <td>7</td>\n      <td>3</td>\n      <td>9</td>\n      <td>21</td>\n    </tr>\n    <tr>\n      <th>5</th>\n      <td>9</td>\n      <td>3</td>\n      <td>4</td>\n      <td>23</td>\n      <td>10</td>\n      <td>610</td>\n      <td>15</td>\n      <td>10</td>\n      <td>34</td>\n      <td>11</td>\n    </tr>\n    <tr>\n      <th>6</th>\n      <td>12</td>\n      <td>4</td>\n      <td>12</td>\n      <td>1</td>\n      <td>7</td>\n      <td>8</td>\n      <td>789</td>\n      <td>0</td>\n      <td>5</td>\n      <td>1</td>\n    </tr>\n    <tr>\n      <th>7</th>\n      <td>3</td>\n      <td>2</td>\n      <td>13</td>\n      <td>6</td>\n      <td>4</td>\n      <td>2</td>\n      <td>0</td>\n      <td>812</td>\n      <td>2</td>\n      <td>29</td>\n    </tr>\n    <tr>\n      <th>8</th>\n      <td>11</td>\n      <td>12</td>\n      <td>13</td>\n      <td>18</td>\n      <td>1</td>\n      <td>21</td>\n      <td>6</td>\n      <td>6</td>\n      <td>694</td>\n      <td>11</td>\n    </tr>\n    <tr>\n      <th>9</th>\n      <td>3</td>\n      <td>6</td>\n      <td>2</td>\n      <td>14</td>\n      <td>25</td>\n      <td>4</td>\n      <td>0</td>\n      <td>37</td>\n      <td>7</td>\n      <td>736</td>\n    </tr>\n  </tbody>\n</table>\n</div>"
     },
     "metadata": {}
    }
   ]
  },
  {
   "cell_type": "code",
   "source": "print(\"Decision Tree Confusion Matrix\\n\")\npd.DataFrame(confusion_matrix(y_test,y_pred2),columns=list(range(0,10)))",
   "metadata": {
    "execution": {
     "iopub.status.busy": "2021-06-24T09:01:43.406338Z",
     "iopub.execute_input": "2021-06-24T09:01:43.407019Z",
     "iopub.status.idle": "2021-06-24T09:01:43.431782Z",
     "shell.execute_reply.started": "2021-06-24T09:01:43.406976Z",
     "shell.execute_reply": "2021-06-24T09:01:43.430783Z"
    },
    "trusted": true
   },
   "execution_count": 23,
   "outputs": [
    {
     "name": "stdout",
     "text": "Decision Tree Confusion Matrix\n\n",
     "output_type": "stream"
    },
    {
     "execution_count": 23,
     "output_type": "execute_result",
     "data": {
      "text/plain": "     0    1    2    3    4    5    6    7    8    9\n0  754    1    9    6    4   18   10    3   10    6\n1    2  903   13    8    7    6    2    7   12    2\n2   10   17  669   31   19   10   19   23   27    4\n3   12   13   31  689    8   44    8   12   32   15\n4    7    5   12    7  739    7   11    6   16   46\n5   16   10   10   37    6  575   20    9   27   19\n6   10    1    8    7   13   22  757    0   14    7\n7    2    9   24   19   12    4    0  777    7   19\n8    7   16   37   29   16   32   11    6  615   24\n9    8    7   11   13   46   16    4   26   26  677",
      "text/html": "<div>\n<style scoped>\n    .dataframe tbody tr th:only-of-type {\n        vertical-align: middle;\n    }\n\n    .dataframe tbody tr th {\n        vertical-align: top;\n    }\n\n    .dataframe thead th {\n        text-align: right;\n    }\n</style>\n<table border=\"1\" class=\"dataframe\">\n  <thead>\n    <tr style=\"text-align: right;\">\n      <th></th>\n      <th>0</th>\n      <th>1</th>\n      <th>2</th>\n      <th>3</th>\n      <th>4</th>\n      <th>5</th>\n      <th>6</th>\n      <th>7</th>\n      <th>8</th>\n      <th>9</th>\n    </tr>\n  </thead>\n  <tbody>\n    <tr>\n      <th>0</th>\n      <td>754</td>\n      <td>1</td>\n      <td>9</td>\n      <td>6</td>\n      <td>4</td>\n      <td>18</td>\n      <td>10</td>\n      <td>3</td>\n      <td>10</td>\n      <td>6</td>\n    </tr>\n    <tr>\n      <th>1</th>\n      <td>2</td>\n      <td>903</td>\n      <td>13</td>\n      <td>8</td>\n      <td>7</td>\n      <td>6</td>\n      <td>2</td>\n      <td>7</td>\n      <td>12</td>\n      <td>2</td>\n    </tr>\n    <tr>\n      <th>2</th>\n      <td>10</td>\n      <td>17</td>\n      <td>669</td>\n      <td>31</td>\n      <td>19</td>\n      <td>10</td>\n      <td>19</td>\n      <td>23</td>\n      <td>27</td>\n      <td>4</td>\n    </tr>\n    <tr>\n      <th>3</th>\n      <td>12</td>\n      <td>13</td>\n      <td>31</td>\n      <td>689</td>\n      <td>8</td>\n      <td>44</td>\n      <td>8</td>\n      <td>12</td>\n      <td>32</td>\n      <td>15</td>\n    </tr>\n    <tr>\n      <th>4</th>\n      <td>7</td>\n      <td>5</td>\n      <td>12</td>\n      <td>7</td>\n      <td>739</td>\n      <td>7</td>\n      <td>11</td>\n      <td>6</td>\n      <td>16</td>\n      <td>46</td>\n    </tr>\n    <tr>\n      <th>5</th>\n      <td>16</td>\n      <td>10</td>\n      <td>10</td>\n      <td>37</td>\n      <td>6</td>\n      <td>575</td>\n      <td>20</td>\n      <td>9</td>\n      <td>27</td>\n      <td>19</td>\n    </tr>\n    <tr>\n      <th>6</th>\n      <td>10</td>\n      <td>1</td>\n      <td>8</td>\n      <td>7</td>\n      <td>13</td>\n      <td>22</td>\n      <td>757</td>\n      <td>0</td>\n      <td>14</td>\n      <td>7</td>\n    </tr>\n    <tr>\n      <th>7</th>\n      <td>2</td>\n      <td>9</td>\n      <td>24</td>\n      <td>19</td>\n      <td>12</td>\n      <td>4</td>\n      <td>0</td>\n      <td>777</td>\n      <td>7</td>\n      <td>19</td>\n    </tr>\n    <tr>\n      <th>8</th>\n      <td>7</td>\n      <td>16</td>\n      <td>37</td>\n      <td>29</td>\n      <td>16</td>\n      <td>32</td>\n      <td>11</td>\n      <td>6</td>\n      <td>615</td>\n      <td>24</td>\n    </tr>\n    <tr>\n      <th>9</th>\n      <td>8</td>\n      <td>7</td>\n      <td>11</td>\n      <td>13</td>\n      <td>46</td>\n      <td>16</td>\n      <td>4</td>\n      <td>26</td>\n      <td>26</td>\n      <td>677</td>\n    </tr>\n  </tbody>\n</table>\n</div>"
     },
     "metadata": {}
    }
   ]
  },
  {
   "cell_type": "code",
   "source": "from sklearn.metrics import precision_score,recall_score,f1_score\n",
   "metadata": {
    "execution": {
     "iopub.status.busy": "2021-06-24T09:02:13.408508Z",
     "iopub.execute_input": "2021-06-24T09:02:13.409108Z",
     "iopub.status.idle": "2021-06-24T09:02:13.413025Z",
     "shell.execute_reply.started": "2021-06-24T09:02:13.409072Z",
     "shell.execute_reply": "2021-06-24T09:02:13.412147Z"
    },
    "trusted": true
   },
   "execution_count": 25,
   "outputs": []
  },
  {
   "cell_type": "code",
   "source": "precision_score(y_test,y_pred1,average='weighted')",
   "metadata": {
    "execution": {
     "iopub.status.busy": "2021-06-24T09:03:40.216323Z",
     "iopub.execute_input": "2021-06-24T09:03:40.216646Z",
     "iopub.status.idle": "2021-06-24T09:03:40.228621Z",
     "shell.execute_reply.started": "2021-06-24T09:03:40.216616Z",
     "shell.execute_reply": "2021-06-24T09:03:40.227694Z"
    },
    "trusted": true
   },
   "execution_count": 32,
   "outputs": [
    {
     "execution_count": 32,
     "output_type": "execute_result",
     "data": {
      "text/plain": "0.9142150713630827"
     },
     "metadata": {}
    }
   ]
  },
  {
   "cell_type": "code",
   "source": "recall_score(y_test,y_pred1,average='weighted')",
   "metadata": {
    "execution": {
     "iopub.status.busy": "2021-06-24T09:03:46.955466Z",
     "iopub.execute_input": "2021-06-24T09:03:46.955781Z",
     "iopub.status.idle": "2021-06-24T09:03:46.968219Z",
     "shell.execute_reply.started": "2021-06-24T09:03:46.955753Z",
     "shell.execute_reply": "2021-06-24T09:03:46.967188Z"
    },
    "trusted": true
   },
   "execution_count": 33,
   "outputs": [
    {
     "execution_count": 33,
     "output_type": "execute_result",
     "data": {
      "text/plain": "0.9145238095238095"
     },
     "metadata": {}
    }
   ]
  },
  {
   "cell_type": "code",
   "source": "f1_score(y_test,y_pred1,average='weighted')",
   "metadata": {
    "execution": {
     "iopub.status.busy": "2021-06-24T09:03:52.111075Z",
     "iopub.execute_input": "2021-06-24T09:03:52.111399Z",
     "iopub.status.idle": "2021-06-24T09:03:52.125452Z",
     "shell.execute_reply.started": "2021-06-24T09:03:52.111369Z",
     "shell.execute_reply": "2021-06-24T09:03:52.124482Z"
    },
    "trusted": true
   },
   "execution_count": 34,
   "outputs": [
    {
     "execution_count": 34,
     "output_type": "execute_result",
     "data": {
      "text/plain": "0.9142794994052751"
     },
     "metadata": {}
    }
   ]
  },
  {
   "cell_type": "code",
   "source": "from sklearn.metrics import classification_report\nprint(classification_report(y_test,y_pred1))",
   "metadata": {
    "execution": {
     "iopub.status.busy": "2021-06-24T09:04:21.732728Z",
     "iopub.execute_input": "2021-06-24T09:04:21.733106Z",
     "iopub.status.idle": "2021-06-24T09:04:21.763285Z",
     "shell.execute_reply.started": "2021-06-24T09:04:21.733073Z",
     "shell.execute_reply": "2021-06-24T09:04:21.762521Z"
    },
    "trusted": true
   },
   "execution_count": 35,
   "outputs": [
    {
     "name": "stdout",
     "text": "              precision    recall  f1-score   support\n\n           0       0.95      0.96      0.96       821\n           1       0.95      0.98      0.96       962\n           2       0.91      0.90      0.91       829\n           3       0.90      0.88      0.89       864\n           4       0.93      0.94      0.94       856\n           5       0.87      0.84      0.85       729\n           6       0.93      0.94      0.94       839\n           7       0.91      0.93      0.92       873\n           8       0.86      0.88      0.87       793\n           9       0.89      0.88      0.89       834\n\n    accuracy                           0.91      8400\n   macro avg       0.91      0.91      0.91      8400\nweighted avg       0.91      0.91      0.91      8400\n\n",
     "output_type": "stream"
    }
   ]
  },
  {
   "cell_type": "code",
   "source": "",
   "metadata": {},
   "execution_count": null,
   "outputs": []
  }
 ]
}
