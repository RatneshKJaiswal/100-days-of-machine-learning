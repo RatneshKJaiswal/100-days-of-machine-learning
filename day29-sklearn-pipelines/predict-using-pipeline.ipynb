{
 "cells": [
  {
   "cell_type": "code",
   "metadata": {
    "ExecuteTime": {
     "end_time": "2024-07-09T17:19:02.369130Z",
     "start_time": "2024-07-09T17:19:02.364046Z"
    }
   },
   "source": [
    "import pickle\n",
    "import numpy as np"
   ],
   "outputs": [],
   "execution_count": 9
  },
  {
   "cell_type": "code",
   "metadata": {
    "ExecuteTime": {
     "end_time": "2024-07-09T17:19:03.042058Z",
     "start_time": "2024-07-09T17:19:03.034399Z"
    }
   },
   "source": [
    "pipe = pickle.load(open('pipe.pkl','rb'))"
   ],
   "outputs": [],
   "execution_count": 10
  },
  {
   "cell_type": "code",
   "metadata": {
    "ExecuteTime": {
     "end_time": "2024-07-09T17:19:26.297718Z",
     "start_time": "2024-07-09T17:19:26.292112Z"
    }
   },
   "source": [
    "# Assume user input\n",
    "test_input2 = np.array([1, 'female', 30.0, 1, 0, 171.5, 'S'],dtype=object).reshape(1,7)"
   ],
   "outputs": [],
   "execution_count": 15
  },
  {
   "cell_type": "code",
   "metadata": {
    "ExecuteTime": {
     "end_time": "2024-07-09T17:19:27.340897Z",
     "start_time": "2024-07-09T17:19:27.331869Z"
    }
   },
   "source": [
    "pipe.predict(test_input2)"
   ],
   "outputs": [
    {
     "name": "stderr",
     "output_type": "stream",
     "text": [
      "C:\\Python\\General_Python\\.venv\\Lib\\site-packages\\sklearn\\base.py:493: UserWarning: X does not have valid feature names, but SimpleImputer was fitted with feature names\n",
      "  warnings.warn(\n",
      "C:\\Python\\General_Python\\.venv\\Lib\\site-packages\\sklearn\\base.py:493: UserWarning: X does not have valid feature names, but SimpleImputer was fitted with feature names\n",
      "  warnings.warn(\n"
     ]
    },
    {
     "data": {
      "text/plain": [
       "array([1], dtype=int64)"
      ]
     },
     "execution_count": 16,
     "metadata": {},
     "output_type": "execute_result"
    }
   ],
   "execution_count": 16
  },
  {
   "cell_type": "code",
   "execution_count": null,
   "metadata": {},
   "outputs": [],
   "source": []
  }
 ],
 "metadata": {
  "kernelspec": {
   "display_name": "Python 3",
   "language": "python",
   "name": "python3"
  },
  "language_info": {
   "codemirror_mode": {
    "name": "ipython",
    "version": 3
   },
   "file_extension": ".py",
   "mimetype": "text/x-python",
   "name": "python",
   "nbconvert_exporter": "python",
   "pygments_lexer": "ipython3",
   "version": "3.8.3"
  }
 },
 "nbformat": 4,
 "nbformat_minor": 4
}
