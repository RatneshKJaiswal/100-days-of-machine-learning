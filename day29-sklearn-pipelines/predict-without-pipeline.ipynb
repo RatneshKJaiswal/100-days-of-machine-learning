{
 "cells": [
  {
   "cell_type": "code",
   "metadata": {
    "ExecuteTime": {
     "end_time": "2024-07-09T16:25:20.397261Z",
     "start_time": "2024-07-09T16:25:20.317369Z"
    }
   },
   "source": [
    "import pickle\n",
    "import numpy as np"
   ],
   "outputs": [],
   "execution_count": 1
  },
  {
   "cell_type": "code",
   "metadata": {
    "ExecuteTime": {
     "end_time": "2024-07-09T16:25:22.415386Z",
     "start_time": "2024-07-09T16:25:21.679268Z"
    }
   },
   "source": [
    "ohe_sex = pickle.load(open('models/ohe_sex.pkl','rb'))\n",
    "ohe_embarked = pickle.load(open('models/ohe_embarked.pkl','rb'))\n",
    "clf = pickle.load(open('models/clf.pkl','rb'))"
   ],
   "outputs": [],
   "execution_count": 2
  },
  {
   "cell_type": "code",
   "metadata": {
    "ExecuteTime": {
     "end_time": "2024-07-09T16:35:55.406065Z",
     "start_time": "2024-07-09T16:35:55.400150Z"
    }
   },
   "source": [
    "# Assume user input\n",
    "# Pclass/gender/age/SibSp/Parch/Fare/Embarked\n",
    "test_input = np.array([1, 'female', 38.0, 1, 0, 71.5, 'C'],dtype=object).reshape(1,7)"
   ],
   "outputs": [],
   "execution_count": 45
  },
  {
   "cell_type": "code",
   "metadata": {
    "ExecuteTime": {
     "end_time": "2024-07-09T16:35:56.176086Z",
     "start_time": "2024-07-09T16:35:56.163100Z"
    }
   },
   "source": [
    "test_input"
   ],
   "outputs": [
    {
     "data": {
      "text/plain": [
       "array([[1, 'female', 38.0, 1, 0, 71.5, 'C']], dtype=object)"
      ]
     },
     "execution_count": 46,
     "metadata": {},
     "output_type": "execute_result"
    }
   ],
   "execution_count": 46
  },
  {
   "cell_type": "code",
   "metadata": {
    "ExecuteTime": {
     "end_time": "2024-07-09T16:35:57.557036Z",
     "start_time": "2024-07-09T16:35:57.551310Z"
    }
   },
   "source": "test_input_sex = ohe_sex.transform(test_input[:,1].reshape(1,1))",
   "outputs": [
    {
     "name": "stderr",
     "output_type": "stream",
     "text": [
      "C:\\Python\\General_Python\\.venv\\Lib\\site-packages\\sklearn\\base.py:493: UserWarning: X does not have valid feature names, but OneHotEncoder was fitted with feature names\n",
      "  warnings.warn(\n"
     ]
    }
   ],
   "execution_count": 47
  },
  {
   "cell_type": "code",
   "metadata": {
    "ExecuteTime": {
     "end_time": "2024-07-09T16:36:00.266523Z",
     "start_time": "2024-07-09T16:36:00.260956Z"
    }
   },
   "source": [
    "test_input_sex"
   ],
   "outputs": [
    {
     "data": {
      "text/plain": [
       "array([[1., 0.]])"
      ]
     },
     "execution_count": 48,
     "metadata": {},
     "output_type": "execute_result"
    }
   ],
   "execution_count": 48
  },
  {
   "cell_type": "code",
   "metadata": {
    "ExecuteTime": {
     "end_time": "2024-07-09T16:36:01.266877Z",
     "start_time": "2024-07-09T16:36:01.257865Z"
    }
   },
   "source": [
    "test_input_embarked = ohe_embarked.transform(test_input[:,-1].reshape(1,1))"
   ],
   "outputs": [],
   "execution_count": 49
  },
  {
   "cell_type": "code",
   "metadata": {
    "ExecuteTime": {
     "end_time": "2024-07-09T16:36:02.109674Z",
     "start_time": "2024-07-09T16:36:02.091865Z"
    }
   },
   "source": [
    "test_input_embarked"
   ],
   "outputs": [
    {
     "data": {
      "text/plain": [
       "array([[1., 0., 0.]])"
      ]
     },
     "execution_count": 50,
     "metadata": {},
     "output_type": "execute_result"
    }
   ],
   "execution_count": 50
  },
  {
   "cell_type": "code",
   "metadata": {
    "ExecuteTime": {
     "end_time": "2024-07-09T16:36:02.858450Z",
     "start_time": "2024-07-09T16:36:02.850903Z"
    }
   },
   "source": [
    "test_input_age = test_input[:,2].reshape(1,1)"
   ],
   "outputs": [],
   "execution_count": 51
  },
  {
   "cell_type": "code",
   "metadata": {
    "ExecuteTime": {
     "end_time": "2024-07-09T16:36:03.553576Z",
     "start_time": "2024-07-09T16:36:03.541355Z"
    }
   },
   "source": [
    "test_input_transformed = np.concatenate((test_input[:,[0,3,4,5]],test_input_age,test_input_sex,test_input_embarked),axis=1)"
   ],
   "outputs": [],
   "execution_count": 52
  },
  {
   "cell_type": "code",
   "metadata": {
    "ExecuteTime": {
     "end_time": "2024-07-09T16:36:04.184857Z",
     "start_time": "2024-07-09T16:36:04.180711Z"
    }
   },
   "source": [
    "test_input_transformed.shape"
   ],
   "outputs": [
    {
     "data": {
      "text/plain": [
       "(1, 10)"
      ]
     },
     "execution_count": 53,
     "metadata": {},
     "output_type": "execute_result"
    }
   ],
   "execution_count": 53
  },
  {
   "cell_type": "code",
   "metadata": {
    "ExecuteTime": {
     "end_time": "2024-07-09T16:36:05.375832Z",
     "start_time": "2024-07-09T16:36:05.362361Z"
    }
   },
   "source": [
    "clf.predict(test_input_transformed)"
   ],
   "outputs": [
    {
     "data": {
      "text/plain": [
       "array([1], dtype=int64)"
      ]
     },
     "execution_count": 54,
     "metadata": {},
     "output_type": "execute_result"
    }
   ],
   "execution_count": 54
  },
  {
   "cell_type": "code",
   "execution_count": null,
   "metadata": {},
   "outputs": [],
   "source": []
  }
 ],
 "metadata": {
  "kernelspec": {
   "display_name": "Python 3",
   "language": "python",
   "name": "python3"
  },
  "language_info": {
   "codemirror_mode": {
    "name": "ipython",
    "version": 3
   },
   "file_extension": ".py",
   "mimetype": "text/x-python",
   "name": "python",
   "nbconvert_exporter": "python",
   "pygments_lexer": "ipython3",
   "version": "3.8.3"
  }
 },
 "nbformat": 4,
 "nbformat_minor": 4
}
