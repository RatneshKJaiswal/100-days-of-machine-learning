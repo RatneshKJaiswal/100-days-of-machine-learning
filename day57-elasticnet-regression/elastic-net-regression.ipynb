{
 "cells": [
  {
   "cell_type": "code",
   "id": "71e28874",
   "metadata": {
    "ExecuteTime": {
     "end_time": "2024-07-22T14:27:41.319103Z",
     "start_time": "2024-07-22T14:27:40.334139Z"
    }
   },
   "source": [
    "from sklearn.datasets import load_diabetes\n",
    "from sklearn.linear_model import LinearRegression,Ridge,Lasso,ElasticNet\n",
    "from sklearn.model_selection import train_test_split\n",
    "from sklearn.metrics import r2_score"
   ],
   "outputs": [],
   "execution_count": 1
  },
  {
   "cell_type": "code",
   "id": "284ccf3c",
   "metadata": {
    "ExecuteTime": {
     "end_time": "2024-07-22T14:27:42.330944Z",
     "start_time": "2024-07-22T14:27:42.316565Z"
    }
   },
   "source": [
    "X,y = load_diabetes(return_X_y=True)"
   ],
   "outputs": [],
   "execution_count": 2
  },
  {
   "cell_type": "code",
   "id": "799d9080",
   "metadata": {
    "ExecuteTime": {
     "end_time": "2024-07-22T14:27:42.920354Z",
     "start_time": "2024-07-22T14:27:42.916181Z"
    }
   },
   "source": [
    "X_train,X_test,y_train,y_test = train_test_split(X,y,test_size=0.2,random_state=2)"
   ],
   "outputs": [],
   "execution_count": 3
  },
  {
   "cell_type": "code",
   "id": "8a242b9f",
   "metadata": {
    "ExecuteTime": {
     "end_time": "2024-07-22T14:27:43.593799Z",
     "start_time": "2024-07-22T14:27:43.576441Z"
    }
   },
   "source": [
    "# Linear Regression\n",
    "reg = LinearRegression()\n",
    "reg.fit(X_train,y_train)\n",
    "y_pred = reg.predict(X_test)\n",
    "r2_score(y_test,y_pred)"
   ],
   "outputs": [
    {
     "data": {
      "text/plain": [
       "0.4399338661568968"
      ]
     },
     "execution_count": 4,
     "metadata": {},
     "output_type": "execute_result"
    }
   ],
   "execution_count": 4
  },
  {
   "cell_type": "code",
   "id": "a41eb10c",
   "metadata": {
    "ExecuteTime": {
     "end_time": "2024-07-22T14:27:45.097158Z",
     "start_time": "2024-07-22T14:27:45.088986Z"
    }
   },
   "source": [
    "# Ridge \n",
    "reg = Ridge(alpha=0.1)\n",
    "reg.fit(X_train,y_train)\n",
    "y_pred = reg.predict(X_test)\n",
    "r2_score(y_test,y_pred)"
   ],
   "outputs": [
    {
     "data": {
      "text/plain": [
       "0.45199494197195456"
      ]
     },
     "execution_count": 5,
     "metadata": {},
     "output_type": "execute_result"
    }
   ],
   "execution_count": 5
  },
  {
   "cell_type": "code",
   "id": "b6b53e7c",
   "metadata": {
    "ExecuteTime": {
     "end_time": "2024-07-22T14:27:46.299581Z",
     "start_time": "2024-07-22T14:27:46.291764Z"
    }
   },
   "source": [
    "# Lasso\n",
    "reg = Lasso(alpha=0.01)\n",
    "reg.fit(X_train,y_train)\n",
    "y_pred = reg.predict(X_test)\n",
    "r2_score(y_test,y_pred)"
   ],
   "outputs": [
    {
     "data": {
      "text/plain": [
       "0.44111855963110613"
      ]
     },
     "execution_count": 6,
     "metadata": {},
     "output_type": "execute_result"
    }
   ],
   "execution_count": 6
  },
  {
   "cell_type": "code",
   "id": "5fc65b12",
   "metadata": {
    "ExecuteTime": {
     "end_time": "2024-07-22T14:28:10.234077Z",
     "start_time": "2024-07-22T14:28:10.226927Z"
    }
   },
   "source": [
    "# ElasticNet\n",
    "reg = ElasticNet(alpha=0.005,l1_ratio=0.9)\n",
    "reg.fit(X_train,y_train)\n",
    "y_pred = reg.predict(X_test)\n",
    "r2_score(y_test,y_pred)"
   ],
   "outputs": [
    {
     "data": {
      "text/plain": [
       "0.4531474541554823"
      ]
     },
     "execution_count": 8,
     "metadata": {},
     "output_type": "execute_result"
    }
   ],
   "execution_count": 8
  },
  {
   "cell_type": "code",
   "execution_count": null,
   "id": "0cb67b0c",
   "metadata": {},
   "outputs": [],
   "source": []
  }
 ],
 "metadata": {
  "kernelspec": {
   "display_name": "Python 3",
   "language": "python",
   "name": "python3"
  },
  "language_info": {
   "codemirror_mode": {
    "name": "ipython",
    "version": 3
   },
   "file_extension": ".py",
   "mimetype": "text/x-python",
   "name": "python",
   "nbconvert_exporter": "python",
   "pygments_lexer": "ipython3",
   "version": "3.8.8"
  }
 },
 "nbformat": 4,
 "nbformat_minor": 5
}
